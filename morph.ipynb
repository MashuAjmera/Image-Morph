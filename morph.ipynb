{
  "nbformat": 4,
  "nbformat_minor": 0,
  "metadata": {
    "colab": {
      "name": "Image Morph.ipynb",
      "provenance": [],
      "include_colab_link": true
    },
    "kernelspec": {
      "name": "python3",
      "display_name": "Python 3"
    }
  },
  "cells": [
    {
      "cell_type": "markdown",
      "metadata": {
        "id": "view-in-github",
        "colab_type": "text"
      },
      "source": [
        "<a href=\"https://colab.research.google.com/github/MashuAjmera/Image-Morph/blob/master/morph.ipynb\" target=\"_parent\"><img src=\"https://colab.research.google.com/assets/colab-badge.svg\" alt=\"Open In Colab\"/></a>"
      ]
    },
    {
      "cell_type": "code",
      "metadata": {
        "id": "Wj7qb6ylscT_",
        "colab_type": "code",
        "colab": {}
      },
      "source": [
        "import numpy as np\n",
        "import cv2\n",
        "import sys"
      ],
      "execution_count": 0,
      "outputs": []
    },
    {
      "cell_type": "code",
      "metadata": {
        "id": "KUg7NUQPupxQ",
        "colab_type": "code",
        "colab": {}
      },
      "source": [
        "# creating class for pixels on image (x and y coordinates)\n",
        "class pts:\n",
        "\tdef __init__(self, x,y):\n",
        "\t\tself.x=x\n",
        "\t\tself.y=y"
      ],
      "execution_count": 0,
      "outputs": []
    },
    {
      "cell_type": "code",
      "metadata": {
        "id": "_LizQTcdutBy",
        "colab_type": "code",
        "colab": {}
      },
      "source": [
        "# creating class for triangle (3 points)\n",
        "class triangle:\n",
        "\tdef __init__(self, vertex):\n",
        "\t\tself.vertex=vertex"
      ],
      "execution_count": 0,
      "outputs": []
    },
    {
      "cell_type": "code",
      "metadata": {
        "id": "746BOtTSuu8d",
        "colab_type": "code",
        "colab": {}
      },
      "source": [
        "# creating class for image (contains image, feature points and triangulation)\n",
        "class data:\n",
        "\tdef __init__(self, img, points, tri ):\n",
        "\t\tself.img = img\n",
        "\t\tself.points = points\n",
        "\t\tself.tri = tri"
      ],
      "execution_count": 0,
      "outputs": []
    },
    {
      "cell_type": "code",
      "metadata": {
        "id": "yEVchgH9uwdC",
        "colab_type": "code",
        "colab": {}
      },
      "source": [
        "# taking input from user for feature points in images (only 3 points)\n",
        "def mouseHandler(event,x,y,flags,param):\n",
        "  if event==cv2.EVENT_LBUTTONDOWN:\n",
        "    imgdata = param\n",
        "    if imgdata.points.size()<3:\n",
        "      \n",
        "      #creating a dot for user accessibility (circle radius-3 color-yellow)\n",
        "      cv2.circle(imgdata.img,(x,y), 3, (0,255,255), 5)\n",
        "      cv2.imshow(\"Image\",imgdata.img)\n",
        "      \n",
        "      #displaying chosen coordinates\n",
        "      print(x,\" \",y)\t\t\n",
        "      \n",
        "      #storing chosen points\n",
        "      dot=pts(x,y)\t\t\n",
        "      imgdata.points.append(dot)"
      ],
      "execution_count": 0,
      "outputs": []
    },
    {
      "cell_type": "code",
      "metadata": {
        "id": "pNQ-4Qr5uyxx",
        "colab_type": "code",
        "colab": {}
      },
      "source": [
        "# function to define points in intermediate images (using weighted average)\n",
        "def fillmorph(pts,p1,p2,alpha):\n",
        "  i=0\n",
        "  while i<p1.size():\n",
        "    xmorphed= (1-alpha)*p1[i].x + alpha*p2[i].x\n",
        "    ymorphed= (1-alpha)*p1[i].y + alpha*p2[i].y\n",
        "\n",
        "    dot= pts(xmorphed,ymorphed)\n",
        "    p3.append(dot)\n",
        "    i+=1"
      ],
      "execution_count": 0,
      "outputs": []
    },
    {
      "cell_type": "code",
      "metadata": {
        "id": "R07Hs6tmu_qj",
        "colab_type": "code",
        "colab": {}
      },
      "source": [
        "# function to make a triangle if 3 vertices are given\n",
        "def makeTriangle(a,  b, c):\n",
        "\ttemp=triangle()\n",
        "\ttemp.vertex[0]=a\n",
        "\ttemp.vertex[1]=b\n",
        "\ttemp.vertex[2]=c\n",
        "\treturn temp"
      ],
      "execution_count": 0,
      "outputs": []
    },
    {
      "cell_type": "code",
      "metadata": {
        "id": "wPN8QScDvBMH",
        "colab_type": "code",
        "colab": {}
      },
      "source": [
        "# sorting function comparator based on y coordinates of two points\n",
        "def compareY(a,b):\n",
        "    return a.y<b.y"
      ],
      "execution_count": 0,
      "outputs": []
    },
    {
      "cell_type": "code",
      "metadata": {
        "id": "SCXAnHLkvCeY",
        "colab_type": "code",
        "colab": {}
      },
      "source": [
        "# function to create triangulation of an image given points on 2d plane (for 3 points only(not using any algorithm))\n",
        "def triangulation(points, rows, cols):\n",
        "  temp=triangle()  \n",
        "  sort(points.begin(),points.end(),compareY)\n",
        "\t\n",
        "  # Boundary points (Top-Left,Bottom-Left,Bottom-Right,Top-Right)\n",
        "  TL=pts(0,0)\n",
        "  BL= pts(rows-1,0)\n",
        "  BR= pts(rows-1,cols-1)\n",
        "  TR= pts(0,cols-1)\n",
        "\t\n",
        "  # 8 triangles based on feature points\n",
        "  temp.append(makeTriangle(TL,BL,points[0]))\n",
        "  temp.append(makeTriangle(points[0],BL,points[1]))\n",
        "  temp.append(makeTriangle(points[1],BL,BR))\n",
        "  temp.append(makeTriangle(points[1],BR,points[2]))\n",
        "  temp.append(makeTriangle(points[2],BR,TR))\n",
        "  temp.append(makeTriangle(TR,TL,points[2]))\n",
        "  temp.append(makeTriangle(points[2],TL,points[0]))\n",
        "  temp.append(makeTriangle(points[0],points[1],points[2]))\n",
        "\t\n",
        "  return temp"
      ],
      "execution_count": 0,
      "outputs": []
    },
    {
      "cell_type": "code",
      "metadata": {
        "id": "zPcxEx2bvF0v",
        "colab_type": "code",
        "colab": {}
      },
      "source": [
        "# creating affine matrix for transformation given 3 points (this function returns inverse of the actual matrix for reverse mapping)\n",
        "def getAffine(tri1,tri2):\n",
        "\t# matrix based on triangle1 vertices (3 Points)\n",
        "\tA=[\n",
        "\t\t\t[tri1.vertex[0].x,tri1.vertex[0].y,1,0,0,0],\n",
        "\t\t\t[0,0,0,tri1.vertex[0].x,tri1.vertex[0].y,1],\n",
        "\t\t\t[tri1.vertex[1].x,tri1.vertex[1].y,1,0,0,0],\n",
        "\t\t\t[0,0,0,tri1.vertex[1].x,tri1.vertex[1].y,1],\n",
        "\t\t\t[tri1.vertex[2].x,tri1.vertex[2].y,1,0,0,0],\n",
        "\t\t\t[0,0,0,tri1.vertex[2].x,tri1.vertex[2].y,1]\n",
        "        ]\n",
        "\t\t\n",
        "\t# matrix based on triangle2 vertices\n",
        "\tB=[tri2.vertex[0].x,tri2.vertex[0].y,tri2.vertex[1].x,tri2.vertex[1].y,tri2.vertex[2].x,tri2.vertex[2].y]\n",
        "\t\n",
        "\t# variables in transformation matrix\n",
        "\tH= (Mat(6,6,CV_64FC1,A).inv())*Mat(6,1,CV_64FC1,B)\n",
        "\t\n",
        "\tC=[\n",
        "\t\t\t[H.at<double>(0),H.at<double>(1),H.at<double>(2)],\n",
        "\t\t\t[H.at<double>(3),H.at<double>(4),H.at<double>(5)],\n",
        "\t\t\t[0,0,1]\n",
        "\t\t]\n",
        "\t\t\n",
        "\t# returning inverse of transformation matrix for reverse mapping\n",
        "\treturn Mat(3,3,CV_64FC1,C).inv()"
      ],
      "execution_count": 0,
      "outputs": []
    },
    {
      "cell_type": "code",
      "metadata": {
        "id": "KDq4-7ycvmNx",
        "colab_type": "code",
        "colab": {}
      },
      "source": [
        "# getting orientation of 3 points (ACW or CW)\n",
        "def orientation( x1,  y1,  x2, y2, px,  py):\n",
        "\to= ((x2-x1)*(py-y1))-((px-x1)*(y2-y1))\n",
        "\treturn 1 if o>0 else -1 if o<0 else 0"
      ],
      "execution_count": 0,
      "outputs": []
    },
    {
      "cell_type": "code",
      "metadata": {
        "id": "tkytwQWzvpOK",
        "colab_type": "code",
        "colab": {}
      },
      "source": [
        "# finding if a point lies inside or outside a triangle (using orientation)\n",
        "def isinTri(t,  p):\n",
        "\to1= orientation(t.vertex[0].x,t.vertex[0].y,t.vertex[1].x,t.vertex[1].y,p.x,p.y)\n",
        "\to2= orientation(t.vertex[1].x,t.vertex[1].y,t.vertex[2].x,t.vertex[2].y,p.x,p.y)\n",
        "\to3= orientation(t.vertex[2].x,t.vertex[2].y,t.vertex[0].x,t.vertex[0].y,p.x,p.y)\n",
        "\t\n",
        "\treturn (o1==o2 and o2==o3)"
      ],
      "execution_count": 0,
      "outputs": []
    },
    {
      "cell_type": "code",
      "metadata": {
        "id": "Sb2Ww9Drvq9F",
        "colab_type": "code",
        "colab": {}
      },
      "source": [
        "# finding suitable triangle for a point\n",
        "def findTriangle(t,  p):\n",
        "\tfor i in range(len(t)):\n",
        "\t\tif(isinTri(t[i],p)):\n",
        "\t\t\treturn i\n",
        "\treturn -1"
      ],
      "execution_count": 0,
      "outputs": []
    },
    {
      "cell_type": "code",
      "metadata": {
        "id": "Gjd53fgivtN8",
        "colab_type": "code",
        "outputId": "20d3db09-bb9e-427b-83e4-bc366b757ad6",
        "colab": {
          "base_uri": "https://localhost:8080/",
          "height": 129
        }
      },
      "source": [
        "# creating intermediate images based on different values of alpha\n",
        "def morphedImage(alpha,srcdata,destdata):\n",
        "  morphdata=data()\n",
        "\t\t\n",
        "  # initialising intermediate image\n",
        "  morphdata.img=Mat(destdata.img.rows,destdata.img.cols,CV_64FC3,Scalar(0,0,0))\n",
        "\t\t\n",
        "  # feature points based on weighted average\n",
        "  fillmorph(morphdata.points,srcdata.points,destdata.points,alpha)\n",
        "\t\t\n",
        "  # triangulating above computed points\n",
        "  morphdata.tri=triangulation(morphdata.points,morphdata.img.rows,morphdata.img.cols)\n",
        "    \t\n",
        "  #vector<Mat> srcaffine\n",
        "  #vector<Mat> destaffine\n",
        "    \t\n",
        "  # getting transformation matrix for each corresponding triangle\n",
        "  i=0\n",
        "  while(i<morphdata.tri.size()):\n",
        "    srcaffine.append(getAffine(srcdata.tri[i],morphdata.tri[i]))\n",
        "    destaffine.append(getAffine(destdata.tri[i],morphdata.tri[i]))\n",
        "    i+=1\n",
        "  i=0    \n",
        "  while(i<morphdata.img.rows):\n",
        "    j=0\n",
        "    while(j<morphdata.img.cols):\n",
        "      dot=pts(i,j)\n",
        "      j+=1\n",
        "\t\t\t# finding triangle for point\n",
        "      k= findTriangle(morphdata.tri,dot)\n",
        "\t\t\t\t\n",
        "      # if no triangle found skip the point\n",
        "      if(k==-1):\n",
        "        continue\n",
        "\t\t\t\t\n",
        "      # finding corresponding points in source and destination image (reverse mapping)\n",
        "      orig=[i,j,1]\n",
        "      modified= Mat(3,1,CV_64FC1,orig)\n",
        "      srcpoints=srcaffine[k]*modified\n",
        "      destpoints=destaffine[k]*modified\n",
        "    \t\t\t\n",
        "      # typecasting double points to int\n",
        "      srcx= round(srcpoints.at<double>(0))\n",
        "      srcy= round(srcpoints.at<double>(1))\n",
        "      destx= round(destpoints.at<double>(0))\n",
        "      desty= round(destpoints.at<double>(1))\n",
        "\n",
        "      # using color interpolation to assign color values for each pixel\n",
        "      morphdata.img.at<Vec3d>((int)i,(int)j)= (1-alpha)*(srcdata.img.at<Vec3d>(srcx,srcy)) + alpha*(destdata.img.at<Vec3d>(destx,desty))\n",
        "      i+=1\n",
        "    \t\n",
        "  # returning intermediate image\n",
        "  morphdata.img.convertTo(morphdata.img,CV_8UC3)\n",
        "  return morphdata.img"
      ],
      "execution_count": 0,
      "outputs": [
        {
          "output_type": "error",
          "ename": "SyntaxError",
          "evalue": "ignored",
          "traceback": [
            "\u001b[0;36m  File \u001b[0;32m\"<ipython-input-38-7a571baeb071>\"\u001b[0;36m, line \u001b[0;32m48\u001b[0m\n\u001b[0;31m    morphdata.img.at<Vec3d>((int)i,(int)j)= (1-alpha)*(srcdata.img.at<Vec3d>(srcx,srcy)) + alpha*(destdata.img.at<Vec3d>(destx,desty))\u001b[0m\n\u001b[0m                                 ^\u001b[0m\n\u001b[0;31mSyntaxError\u001b[0m\u001b[0;31m:\u001b[0m invalid syntax\n"
          ]
        }
      ]
    },
    {
      "cell_type": "code",
      "metadata": {
        "id": "EN3hqpm8vwlt",
        "colab_type": "code",
        "outputId": "4fd2cf85-6726-459c-c9fa-08516cb94d57",
        "colab": {
          "base_uri": "https://localhost:8080/",
          "height": 129
        }
      },
      "source": [
        "# int argc, const char** argv\n",
        "if __name__ == '__main__' :\n",
        "\n",
        "  filename1 = 'Clinton.jpg'\n",
        "  filename2=\"Bush.jpg\"\n",
        "\n",
        "  # reading source image and checking for errors    \n",
        "  src = cv2.imread(filename1);\n",
        "\n",
        "  #reading destination image and checking for errors\n",
        "  dest =cv2.imread(filename2);\n",
        "\t\n",
        "  srcdata=data()\n",
        "  destdata=data()\n",
        "\t\n",
        "  srcdata.img=src.clone()\n",
        "  destdata.img=dest.clone()\n",
        "\t\n",
        "  # creating window\n",
        "  cv2.namedWindow(\"Image\")\n",
        "\t\n",
        "  # user input from mouse for source image\n",
        "  cv2.setMouseCallback(\"Image\",mouseHandler,srcdata)\n",
        "  cv2.imshow(\"Image\",srcdata.img)\n",
        "  cv2.waitKey(0)\n",
        "\t\n",
        "  # retrieving original image to undo any modification (dots on images) \n",
        "  srcdata.img=src\n",
        "\t\n",
        "  # coverting image for arithmetics\n",
        "  srcdata.img.convertTo(srcdata.img,CV_64FC3)\n",
        "\t\n",
        "  # triangulating source image\n",
        "  srcdata.tri=triangulation(srcdata.points,srcdata.img.rows,srcdata.img.cols)\n",
        "\t\n",
        "  # user input from mouse for destination image\n",
        "  cv2.setMouseCallback(\"Image\",mouseHandler,destdata)\n",
        "  cv2.imshow(\"Image\",destdata.img)\n",
        "  cv2.waitKey(0)\n",
        "\n",
        "  # retrieving original image to undo any modification (dots on images) \n",
        "  destdata.img=dest\n",
        "\t\n",
        "  # coverting image for arithmetics\n",
        "  destdata.img.convertTo(destdata.img,CV_64FC3)\n",
        "\t\n",
        "  # triangulating destination image\n",
        "  destdata.tri=triangulation(destdata.points,destdata.img.rows,destdata.img.cols)\n",
        "\t\n",
        "  # closing any windows created\n",
        "  cv2.destroyAllWindows()\n",
        "\t\n",
        "  # creating and saving intermediate frames\n",
        "  i=0\n",
        "  step = 0.01\n",
        "  alpha=0\n",
        "  while(alpha<=1):\n",
        "    name= \"morphed\" + to_string(i) + \".jpg\"\n",
        "    alpha+=step\n",
        "    i+=1\n",
        "    cv2.imwrite(name,morphedImage(alpha,srcdata,destdata))\n",
        "  return 0\n"
      ],
      "execution_count": 0,
      "outputs": [
        {
          "output_type": "error",
          "ename": "SyntaxError",
          "evalue": "ignored",
          "traceback": [
            "\u001b[0;36m  File \u001b[0;32m\"<ipython-input-41-dea07baf165b>\"\u001b[0;36m, line \u001b[0;32m61\u001b[0m\n\u001b[0;31m    return 0\u001b[0m\n\u001b[0m    ^\u001b[0m\n\u001b[0;31mSyntaxError\u001b[0m\u001b[0;31m:\u001b[0m 'return' outside function\n"
          ]
        }
      ]
    },
    {
      "cell_type": "code",
      "metadata": {
        "id": "CEDxI9dk88fX",
        "colab_type": "code",
        "colab": {}
      },
      "source": [
        ""
      ],
      "execution_count": 0,
      "outputs": []
    }
  ]
}