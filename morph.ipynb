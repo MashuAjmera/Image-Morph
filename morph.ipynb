{
  "nbformat": 4,
  "nbformat_minor": 0,
  "metadata": {
    "colab": {
      "name": "Image Morph.ipynb",
      "provenance": [],
      "collapsed_sections": [],
      "include_colab_link": true
    },
    "kernelspec": {
      "name": "python3",
      "display_name": "Python 3"
    }
  },
  "cells": [
    {
      "cell_type": "markdown",
      "metadata": {
        "id": "view-in-github",
        "colab_type": "text"
      },
      "source": [
        "<a href=\"https://colab.research.google.com/github/MashuAjmera/Image-Morph/blob/master/morph.ipynb\" target=\"_parent\"><img src=\"https://colab.research.google.com/assets/colab-badge.svg\" alt=\"Open In Colab\"/></a>"
      ]
    },
    {
      "cell_type": "code",
      "metadata": {
        "id": "Wj7qb6ylscT_",
        "colab_type": "code",
        "colab": {}
      },
      "source": [
        "import numpy as np\n",
        "import cv2\n",
        "import sys"
      ],
      "execution_count": 0,
      "outputs": []
    },
    {
      "cell_type": "code",
      "metadata": {
        "id": "KUg7NUQPupxQ",
        "colab_type": "code",
        "colab": {}
      },
      "source": [
        "# creating class for pixels on image (x and y coordinates)\n",
        "class pts:\n",
        "\tdef __init__(self, x,y):\n",
        "\t\tself.x=x\n",
        "\t\tself.y=y"
      ],
      "execution_count": 0,
      "outputs": []
    },
    {
      "cell_type": "code",
      "metadata": {
        "id": "_LizQTcdutBy",
        "colab_type": "code",
        "colab": {}
      },
      "source": [
        "# creating class for triangle (3 points)\n",
        "class triangle:\n",
        "\tdef __init__(self, vertex):\n",
        "\t\tself.vertex=vertex"
      ],
      "execution_count": 0,
      "outputs": []
    },
    {
      "cell_type": "code",
      "metadata": {
        "id": "746BOtTSuu8d",
        "colab_type": "code",
        "colab": {}
      },
      "source": [
        "# creating class for image (contains image, control points and triangulation)\n",
        "class data:\n",
        "\tdef __init__(self, img, points, tri ):\n",
        "\t\tself.img = img\n",
        "\t\tself.points = points\n",
        "\t\tself.tri = tri"
      ],
      "execution_count": 0,
      "outputs": []
    },
    {
      "cell_type": "code",
      "metadata": {
        "id": "6TpvSkD96UuP",
        "colab_type": "code",
        "colab": {}
      },
      "source": [
        "class Delaunay:\n",
        "  # Class to compute a Delaunay triangulation\n",
        "  def __init__(self, center=(0, 0), radius=9999):\n",
        "    \"\"\"center -- Optional position for the center of the frame. Default (0,0)\n",
        "    radius -- Optional distance from corners to the center.\n",
        "    \"\"\"\n",
        "    center = np.asarray(center)\n",
        "    # Create coordinates for the corners of the frame\n",
        "    self.coords = [center+radius*np.array((-1, -1)),\n",
        "                    center+radius*np.array((+1, -1)),\n",
        "                    center+radius*np.array((+1, +1)),\n",
        "                    center+radius*np.array((-1, +1))]\n",
        "\n",
        "    # Create two dicts to store triangle neighbours and circumcircles.\n",
        "    self.triangles = {}\n",
        "    self.circles = {}\n",
        "\n",
        "    # Create two CCW triangles for the frame\n",
        "    T1 = (0, 1, 3)\n",
        "    T2 = (2, 3, 1)\n",
        "    self.triangles[T1] = [T2, None, None]\n",
        "    self.triangles[T2] = [T1, None, None]\n",
        "\n",
        "    # Compute circumcenters and circumradius for each triangle\n",
        "    for t in self.triangles:\n",
        "      self.circles[t] = self.circumcenter(t)\n",
        "\n",
        "  def circumcenter(self, tri):\n",
        "    # Compute circumcenter and circumradius of a triangle.\n",
        "    pts = np.asarray([self.coords[v] for v in tri])\n",
        "    pts2 = np.dot(pts, pts.T)\n",
        "    A = np.bmat([[2 * pts2, [[1],\n",
        "                              [1],\n",
        "                              [1]]],\n",
        "                  [[[1, 1, 1, 0]]]])\n",
        "\n",
        "    b = np.hstack((np.sum(pts * pts, axis=1), [1]))\n",
        "    x = np.linalg.solve(A, b)\n",
        "    bary_coords = x[:-1]\n",
        "    center = np.dot(bary_coords, pts)\n",
        "\n",
        "    # radius = np.linalg.norm(pts[0] - center) # euclidean distance\n",
        "    radius = np.sum(np.square(pts[0] - center))  # squared distance\n",
        "    return (center, radius)\n",
        "\n",
        "  def inCircle(self, tri, p):\n",
        "    # Check if point p is inside of precomputed circumcircle of tri.\n",
        "    center, radius = self.circles[tri]\n",
        "    return np.sum(np.square(center - p)) <= radius\n",
        "\n",
        "  def addControlPoint(self, p):\n",
        "    # Add a point to the current DT, and refine it using Bowyer-Watson.\n",
        "    p = np.asarray(p)\n",
        "    idx = len(self.coords)\n",
        "    # print(\"coords[\", idx,\"] ->\",p)\n",
        "    self.coords.append(p)\n",
        "\n",
        "    # Search the triangle(s) whose circumcircle contains p\n",
        "    bad_triangles = []\n",
        "    for T in self.triangles:\n",
        "      if self.inCircle(T, p):\n",
        "        bad_triangles.append(T)\n",
        "\n",
        "    # Find the CCW boundary (star shape) of the bad triangles,\n",
        "    # expressed as a list of edges (point pairs) and the opposite\n",
        "    # triangle to each edge.\n",
        "    boundary = []\n",
        "    # Choose a \"random\" triangle and edge\n",
        "    T = bad_triangles[0]\n",
        "    edge = 0\n",
        "    # get the opposite triangle of this edge\n",
        "    while True:\n",
        "      # Check if edge of triangle T is on the boundary...\n",
        "      # if opposite triangle of this edge is external to the list\n",
        "      tri_op = self.triangles[T][edge]\n",
        "      if tri_op not in bad_triangles:\n",
        "        # Insert edge and external triangle into boundary list\n",
        "        boundary.append((T[(edge+1) % 3], T[(edge-1) % 3], tri_op))\n",
        "\n",
        "        # Move to next CCW edge in this triangle\n",
        "        edge = (edge + 1) % 3\n",
        "\n",
        "        # Check if boundary is a closed loop\n",
        "        if boundary[0][0] == boundary[-1][1]:\n",
        "          break\n",
        "      else:\n",
        "        # Move to next CCW edge in opposite triangle\n",
        "        edge = (self.triangles[tri_op].index(T) + 1) % 3\n",
        "        T = tri_op\n",
        "\n",
        "    # Remove triangles too near of point p of our solution\n",
        "    for T in bad_triangles:\n",
        "      del self.triangles[T]\n",
        "      del self.circles[T]\n",
        "\n",
        "    # Retriangle the hole left by bad_triangles\n",
        "    new_triangles = []\n",
        "    for (e0, e1, tri_op) in boundary:\n",
        "      # Create a new triangle using point p and edge extremes\n",
        "      T = (idx, e0, e1)\n",
        "\n",
        "      # Store circumcenter and circumradius of the triangle\n",
        "      self.circles[T] = self.circumcenter(T)\n",
        "\n",
        "      # Set opposite triangle of the edge as neighbour of T\n",
        "      self.triangles[T] = [tri_op, None, None]\n",
        "\n",
        "      # Try to set T as neighbour of the opposite triangle\n",
        "      if tri_op:\n",
        "        # search the neighbour of tri_op that use edge (e1, e0)\n",
        "        for i, neigh in enumerate(self.triangles[tri_op]):\n",
        "          if neigh:\n",
        "            if e1 in neigh and e0 in neigh:\n",
        "              # change link to use our new triangle\n",
        "              self.triangles[tri_op][i] = T\n",
        "\n",
        "      # Add triangle to a temporal list\n",
        "      new_triangles.append(T)\n",
        "\n",
        "    # Link the new triangles each another\n",
        "    N = len(new_triangles)\n",
        "    for i, T in enumerate(new_triangles):\n",
        "      self.triangles[T][1] = new_triangles[(i+1) % N]   # next\n",
        "      self.triangles[T][2] = new_triangles[(i-1) % N]   # previous\n",
        "\n",
        "  def exportTriangles(self):\n",
        "    # Export the current list of Delaunay triangles\n",
        "    # Filter out triangles with any vertex in the extended BBox\n",
        "    return [(a-4, b-4, c-4)\n",
        "            for (a, b, c) in self.triangles if a > 3 and b > 3 and c > 3]"
      ],
      "execution_count": 0,
      "outputs": []
    },
    {
      "cell_type": "code",
      "metadata": {
        "id": "yEVchgH9uwdC",
        "colab_type": "code",
        "colab": {}
      },
      "source": [
        "# taking input from user for control points in images (only 3 points)\n",
        "def mouseHandler(event,x,y,flags,param):\n",
        "  if event==cv2.EVENT_LBUTTONDOWN:\n",
        "    imgdata = param\n",
        "    if len(imgdata.points)<100:\n",
        "      \n",
        "      #creating a dot for user accessibility (circle radius-3 color-yellow)\n",
        "      cv2.circle(imgdata.img,(x,y), 3, (0,255,255), 5)\n",
        "      cv2.imshow(\"Image\",imgdata.img)\n",
        "      \n",
        "      #displaying chosen coordinates\n",
        "      print(x,\" \",y)\t\t\n",
        "      \n",
        "      #storing chosen points\n",
        "      dot=pts(y,x)\t\t\n",
        "      imgdata.points.append(dot)"
      ],
      "execution_count": 0,
      "outputs": []
    },
    {
      "cell_type": "code",
      "metadata": {
        "id": "R07Hs6tmu_qj",
        "colab_type": "code",
        "colab": {}
      },
      "source": [
        "# function to make a triangle if 3 vertices are given\n",
        "def makeTriangle(a,  b, c):\n",
        "\ttemp=triangle([])\n",
        "\ttemp.vertex.append(a)\n",
        "\ttemp.vertex.append(b)\n",
        "\ttemp.vertex.append(c)\n",
        "\treturn temp"
      ],
      "execution_count": 0,
      "outputs": []
    },
    {
      "cell_type": "code",
      "metadata": {
        "id": "wPN8QScDvBMH",
        "colab_type": "code",
        "colab": {}
      },
      "source": [
        "# sorting function comparator based on y coordinates of two points\n",
        "def compareY(val):\n",
        "    return val.y"
      ],
      "execution_count": 0,
      "outputs": []
    },
    {
      "cell_type": "code",
      "metadata": {
        "id": "SCXAnHLkvCeY",
        "colab_type": "code",
        "colab": {}
      },
      "source": [
        "# function to create triangulation of an image given points on 2d plane (for 3 points only(not using any algorithm))\n",
        "def triangulation(points, rows, cols):\n",
        "  temp=[]\n",
        "  seeds=[]\n",
        "  points.sort(key=compareY)\n",
        "\n",
        "  # Boundary points (Top-Left,Bottom-Left,Bottom-Right,Top-Right)\n",
        "  seeds.append(pts(0,0))\n",
        "  seeds.append(pts(rows-1,0))\n",
        "  seeds.append(pts(rows-1,cols-1))\n",
        "  seeds.append(pts(0,cols-1))\n",
        "  for p in points:\n",
        "    seeds.append(p)\n",
        "  \n",
        "  # Delaunay Triangulation based on control points\n",
        "  dt = Delaunay()\n",
        "  for s in seeds:\n",
        "    dt.addControlPoint([s.x,s.y])\n",
        "  for t in dt.exportTriangles():\n",
        "    temp.append(makeTriangle(seeds[t[0]],seeds[t[1]],seeds[t[2]]))\n",
        "\t\n",
        "  return temp"
      ],
      "execution_count": 0,
      "outputs": []
    },
    {
      "cell_type": "code",
      "metadata": {
        "id": "se2Q7ABa6qhE",
        "colab_type": "code",
        "colab": {}
      },
      "source": [
        "def exportDelaunayImage(img, triangles,lineColours):\n",
        "  for t in triangles :\n",
        "    # Triangle Coordinates\n",
        "    p1 = [t.vertex[0].x,t.vertex[0].y]\n",
        "    p2 = [t.vertex[1].x,t.vertex[1].y]\n",
        "    p3 = [t.vertex[2].x,t.vertex[2].y]\n",
        "\n",
        "    # Drawing triangles\n",
        "    cv2.line(img, (p1[1],p1[0]), (p2[1],p2[0]), lineColours, 1)\n",
        "    cv2.line(img, (p2[1],p2[0]), (p3[1],p3[0]), lineColours, 1)\n",
        "    cv2.line(img, (p3[1],p3[0]), (p1[1],p1[0]), lineColours, 1)\n",
        "\n",
        "  cv2.imshow(\"Image\",img)\n",
        "  return img"
      ],
      "execution_count": 0,
      "outputs": []
    },
    {
      "cell_type": "code",
      "metadata": {
        "id": "pNQ-4Qr5uyxx",
        "colab_type": "code",
        "colab": {}
      },
      "source": [
        "# function to define points in intermediate images (using weighted average)\n",
        "def fillmorph(p3,p1,p2,alpha):\n",
        "  i=0\n",
        "  while i<len(p1):\n",
        "    xmorphed= (1-alpha)*p1[i].x + alpha*p2[i].x\n",
        "    ymorphed= (1-alpha)*p1[i].y + alpha*p2[i].y\n",
        "\n",
        "    dot= pts(xmorphed,ymorphed)\n",
        "    p3.append(dot)\n",
        "    i+=1"
      ],
      "execution_count": 0,
      "outputs": []
    },
    {
      "cell_type": "code",
      "metadata": {
        "id": "zPcxEx2bvF0v",
        "colab_type": "code",
        "colab": {}
      },
      "source": [
        "# creating affine matrix for transformation given 3 points (this function returns inverse of the actual matrix for reverse mapping)\n",
        "def getAffine(tri1,tri2):\n",
        "\t# matrix based on triangle1 vertices (3 Points)\n",
        "\tA=np.array([\n",
        "\t\t\t[tri1.vertex[0].x,tri1.vertex[0].y,1,0,0,0],\n",
        "\t\t\t[0,0,0,tri1.vertex[0].x,tri1.vertex[0].y,1],\n",
        "\t\t\t[tri1.vertex[1].x,tri1.vertex[1].y,1,0,0,0],\n",
        "\t\t\t[0,0,0,tri1.vertex[1].x,tri1.vertex[1].y,1],\n",
        "\t\t\t[tri1.vertex[2].x,tri1.vertex[2].y,1,0,0,0],\n",
        "\t\t\t[0,0,0,tri1.vertex[2].x,tri1.vertex[2].y,1]\n",
        "        ])\n",
        "\t\t\n",
        "\t# matrix based on triangle2 vertices\n",
        "\tB=np.array([tri2.vertex[0].x,tri2.vertex[0].y,tri2.vertex[1].x,tri2.vertex[1].y,tri2.vertex[2].x,tri2.vertex[2].y])\n",
        "\t\n",
        "\t# variables in transformation matrix\n",
        "\tH = np.dot(np.linalg.inv(A), B)\n",
        "\t\n",
        "\tC=np.array([\n",
        "\t\t\t[H[0],H[1],H[2]],\n",
        "\t\t\t[H[3],H[4],H[5]],\n",
        "\t\t\t[0,0,1]\n",
        "\t\t])\n",
        "\t\t\n",
        "\t# returning inverse of transformation matrix for reverse mapping\n",
        "\treturn np.linalg.inv(C)"
      ],
      "execution_count": 0,
      "outputs": []
    },
    {
      "cell_type": "code",
      "metadata": {
        "id": "KDq4-7ycvmNx",
        "colab_type": "code",
        "colab": {}
      },
      "source": [
        "# getting orientation of 3 points (ACW or CW)\n",
        "def orientation( x1,  y1,  x2, y2, px,  py):\n",
        "\to= ((x2-x1)*(py-y1))-((px-x1)*(y2-y1))\n",
        "\treturn 1 if o>0 else -1 if o<0 else 0"
      ],
      "execution_count": 0,
      "outputs": []
    },
    {
      "cell_type": "code",
      "metadata": {
        "id": "tkytwQWzvpOK",
        "colab_type": "code",
        "colab": {}
      },
      "source": [
        "# finding if a point lies inside or outside a triangle (using orientation)\n",
        "def isinTri(t,  p):\n",
        "\to1= orientation(t.vertex[0].x,t.vertex[0].y,t.vertex[1].x,t.vertex[1].y,p.x,p.y)\n",
        "\to2= orientation(t.vertex[1].x,t.vertex[1].y,t.vertex[2].x,t.vertex[2].y,p.x,p.y)\n",
        "\to3= orientation(t.vertex[2].x,t.vertex[2].y,t.vertex[0].x,t.vertex[0].y,p.x,p.y)\n",
        "\t\n",
        "\treturn (o1==o2 and o2==o3)"
      ],
      "execution_count": 0,
      "outputs": []
    },
    {
      "cell_type": "code",
      "metadata": {
        "id": "Sb2Ww9Drvq9F",
        "colab_type": "code",
        "colab": {}
      },
      "source": [
        "# finding suitable triangle for a point\n",
        "def findTriangle(t,  p):\n",
        "\tfor i in range(len(t)):\n",
        "\t\tif(isinTri(t[i],p)):\n",
        "\t\t\treturn i\n",
        "\treturn -1"
      ],
      "execution_count": 0,
      "outputs": []
    },
    {
      "cell_type": "code",
      "metadata": {
        "id": "Gjd53fgivtN8",
        "colab_type": "code",
        "colab": {}
      },
      "source": [
        "# creating intermediate images based on different values of alpha\n",
        "def morphedImage(alpha,srcdata,destdata):\n",
        "  morphdata=data([], [], [])\n",
        "\t\t\n",
        "  # initialising intermediate image\n",
        "  morphdata.img=np.empty([destdata.img.shape[0], destdata.img.shape[1], destdata.img.shape[2]]) \n",
        "\t\t\n",
        "  # control points based on weighted average\n",
        "  fillmorph(morphdata.points,srcdata.points,destdata.points,alpha)\n",
        "\t\t\n",
        "  # triangulating above computed points\n",
        "  morphdata.tri=triangulation(morphdata.points,morphdata.img.shape[0],morphdata.img.shape[1])\n",
        "    \t\n",
        "  srcaffine = []\n",
        "  destaffine = []\n",
        "    \t\n",
        "  # getting transformation matrix for each corresponding triangle\n",
        "  i=0\n",
        "  while(i<len(morphdata.tri)):\n",
        "    srcaffine.append(getAffine(srcdata.tri[i],morphdata.tri[i]))\n",
        "    destaffine.append(getAffine(destdata.tri[i],morphdata.tri[i]))\n",
        "    i+=1\n",
        "  i=0    \n",
        "  while(i<morphdata.img.shape[0]):\n",
        "    j=0\n",
        "    while(j<morphdata.img.shape[1]):\n",
        "      dot=pts(i,j)\n",
        "\t\t\t# finding triangle for point\n",
        "      k= findTriangle(morphdata.tri,dot)\n",
        "\t\t\t\t\n",
        "      # if no triangle found skip the point\n",
        "      if(k==-1):\n",
        "        j+=1\n",
        "        continue\n",
        "\t\t\t\t\n",
        "      # finding corresponding points in source and destination image (reverse mapping)\n",
        "      orig=[i,j,1]\n",
        "      modified= orig\n",
        "      srcpoints=np.dot(srcaffine[k],modified)\n",
        "      destpoints=np.dot(destaffine[k],modified)\n",
        "    \t\t\t\n",
        "      # typecasting double points to int\n",
        "      srcx= int(np.round(srcpoints[0]))\n",
        "      srcy= int(np.round(srcpoints[1]))\n",
        "      destx= int(np.round(destpoints[0]))\n",
        "      desty= int(np.round(destpoints[1]))\n",
        "\n",
        "      # using color interpolation to assign color values for each pixel\n",
        "      morphdata.img[i,j]= (1-alpha)*srcdata.img[srcx,srcy] + alpha*destdata.img[destx,desty]\n",
        "      j+=1\n",
        "\n",
        "    i+=1\n",
        "    \t\n",
        "  return morphdata.img\n"
      ],
      "execution_count": 0,
      "outputs": []
    },
    {
      "cell_type": "code",
      "metadata": {
        "id": "EN3hqpm8vwlt",
        "colab_type": "code",
        "outputId": "8d3cc3ec-8081-41fc-9f3e-65ef75e6a877",
        "colab": {
          "base_uri": "https://localhost:8080/",
          "height": 527
        }
      },
      "source": [
        "if __name__ == '__main__' :\n",
        "  # reading source image and checking for errors\n",
        "  filename1 = input(\"Enter source filename: \")    \n",
        "  src = cv2.imread(filename1)\n",
        "  srcdata=data(src.copy() , [], [])\n",
        "\t\n",
        "  # creating window\n",
        "  cv2.namedWindow(\"Image\")\n",
        "\t\n",
        "  # user input from mouse for source image\n",
        "  print(\"Kindly click on your choice of control points:\")\t\n",
        "  cv2.setMouseCallback(\"Image\",mouseHandler,srcdata)\n",
        "  cv2.imshow(\"Image\",srcdata.img)\n",
        "  cv2.waitKey(0)\n",
        "\n",
        "  # triangulating source image\n",
        "  srcdata.tri=triangulation(srcdata.points,srcdata.img.shape[0],srcdata.img.shape[1])\n",
        "  srctri=exportDelaunayImage(src.copy(),srcdata.tri,(255,0,0))\n",
        "  cv2.waitKey(0)\n",
        "  cv2.imwrite(\"src_triangulate.jpg\",srctri)\n",
        "\n",
        "  # retrieving original image to undo any modification (dots on images) \n",
        "  srcdata.img=src\n",
        "\n",
        "  #reading destination image and checking for errors\n",
        "  filename2= input(\"Enter destination filename: \")\n",
        "  dest =cv2.imread(filename2)\n",
        "  destdata=data(dest.copy() , [], [])\n",
        "\n",
        "  # user input from mouse for destination image\n",
        "  print(\"Kindly click on your choice of control points:\")\t\n",
        "  cv2.setMouseCallback(\"Image\",mouseHandler,destdata)\n",
        "  cv2.imshow(\"Image\",destdata.img)\n",
        "  cv2.waitKey(0)\n",
        "\n",
        "  # triangulating destination image\n",
        "  destdata.tri=triangulation(destdata.points,destdata.img.shape[0],destdata.img.shape[1])\n",
        "  desttri=exportDelaunayImage(dest.copy(),destdata.tri,(0,255,255))\t\n",
        "  cv2.waitKey(0)\n",
        "  cv2.imwrite(\"dest_triangulate.jpg\",desttri)\n",
        "\n",
        "  # retrieving original image to undo any modification (dots on images) \n",
        "  destdata.img=dest\n",
        "\n",
        "  # closing any windows created\n",
        "  cv2.destroyAllWindows()\n",
        "\t\n",
        "  # creating and saving intermediate frames\n",
        "  step = float(input(\"Enter 1/number of intermediate frames: \"))\n",
        "  alpha=0\n",
        "  while(alpha<1):\n",
        "    alpha+=step\n",
        "    name= \"morphed_\" + str(step) + \".jpg\"\n",
        "    cv2.imwrite(name,morphedImage(alpha,srcdata,destdata))\n",
        "    print(\"Saved intermediate frame\",name)"
      ],
      "execution_count": 0,
      "outputs": [
        {
          "output_type": "error",
          "ename": "KeyboardInterrupt",
          "evalue": "ignored",
          "traceback": [
            "\u001b[0;31m---------------------------------------------------------------------------\u001b[0m",
            "\u001b[0;31mKeyboardInterrupt\u001b[0m                         Traceback (most recent call last)",
            "\u001b[0;32m/usr/local/lib/python3.6/dist-packages/ipykernel/kernelbase.py\u001b[0m in \u001b[0;36m_input_request\u001b[0;34m(self, prompt, ident, parent, password)\u001b[0m\n\u001b[1;32m    728\u001b[0m             \u001b[0;32mtry\u001b[0m\u001b[0;34m:\u001b[0m\u001b[0;34m\u001b[0m\u001b[0;34m\u001b[0m\u001b[0m\n\u001b[0;32m--> 729\u001b[0;31m                 \u001b[0mident\u001b[0m\u001b[0;34m,\u001b[0m \u001b[0mreply\u001b[0m \u001b[0;34m=\u001b[0m \u001b[0mself\u001b[0m\u001b[0;34m.\u001b[0m\u001b[0msession\u001b[0m\u001b[0;34m.\u001b[0m\u001b[0mrecv\u001b[0m\u001b[0;34m(\u001b[0m\u001b[0mself\u001b[0m\u001b[0;34m.\u001b[0m\u001b[0mstdin_socket\u001b[0m\u001b[0;34m,\u001b[0m \u001b[0;36m0\u001b[0m\u001b[0;34m)\u001b[0m\u001b[0;34m\u001b[0m\u001b[0;34m\u001b[0m\u001b[0m\n\u001b[0m\u001b[1;32m    730\u001b[0m             \u001b[0;32mexcept\u001b[0m \u001b[0mException\u001b[0m\u001b[0;34m:\u001b[0m\u001b[0;34m\u001b[0m\u001b[0;34m\u001b[0m\u001b[0m\n",
            "\u001b[0;32m/usr/local/lib/python3.6/dist-packages/jupyter_client/session.py\u001b[0m in \u001b[0;36mrecv\u001b[0;34m(self, socket, mode, content, copy)\u001b[0m\n\u001b[1;32m    802\u001b[0m         \u001b[0;32mtry\u001b[0m\u001b[0;34m:\u001b[0m\u001b[0;34m\u001b[0m\u001b[0;34m\u001b[0m\u001b[0m\n\u001b[0;32m--> 803\u001b[0;31m             \u001b[0mmsg_list\u001b[0m \u001b[0;34m=\u001b[0m \u001b[0msocket\u001b[0m\u001b[0;34m.\u001b[0m\u001b[0mrecv_multipart\u001b[0m\u001b[0;34m(\u001b[0m\u001b[0mmode\u001b[0m\u001b[0;34m,\u001b[0m \u001b[0mcopy\u001b[0m\u001b[0;34m=\u001b[0m\u001b[0mcopy\u001b[0m\u001b[0;34m)\u001b[0m\u001b[0;34m\u001b[0m\u001b[0;34m\u001b[0m\u001b[0m\n\u001b[0m\u001b[1;32m    804\u001b[0m         \u001b[0;32mexcept\u001b[0m \u001b[0mzmq\u001b[0m\u001b[0;34m.\u001b[0m\u001b[0mZMQError\u001b[0m \u001b[0;32mas\u001b[0m \u001b[0me\u001b[0m\u001b[0;34m:\u001b[0m\u001b[0;34m\u001b[0m\u001b[0;34m\u001b[0m\u001b[0m\n",
            "\u001b[0;32m/usr/local/lib/python3.6/dist-packages/zmq/sugar/socket.py\u001b[0m in \u001b[0;36mrecv_multipart\u001b[0;34m(self, flags, copy, track)\u001b[0m\n\u001b[1;32m    474\u001b[0m         \"\"\"\n\u001b[0;32m--> 475\u001b[0;31m         \u001b[0mparts\u001b[0m \u001b[0;34m=\u001b[0m \u001b[0;34m[\u001b[0m\u001b[0mself\u001b[0m\u001b[0;34m.\u001b[0m\u001b[0mrecv\u001b[0m\u001b[0;34m(\u001b[0m\u001b[0mflags\u001b[0m\u001b[0;34m,\u001b[0m \u001b[0mcopy\u001b[0m\u001b[0;34m=\u001b[0m\u001b[0mcopy\u001b[0m\u001b[0;34m,\u001b[0m \u001b[0mtrack\u001b[0m\u001b[0;34m=\u001b[0m\u001b[0mtrack\u001b[0m\u001b[0;34m)\u001b[0m\u001b[0;34m]\u001b[0m\u001b[0;34m\u001b[0m\u001b[0;34m\u001b[0m\u001b[0m\n\u001b[0m\u001b[1;32m    476\u001b[0m         \u001b[0;31m# have first part already, only loop while more to receive\u001b[0m\u001b[0;34m\u001b[0m\u001b[0;34m\u001b[0m\u001b[0;34m\u001b[0m\u001b[0m\n",
            "\u001b[0;32mzmq/backend/cython/socket.pyx\u001b[0m in \u001b[0;36mzmq.backend.cython.socket.Socket.recv\u001b[0;34m()\u001b[0m\n",
            "\u001b[0;32mzmq/backend/cython/socket.pyx\u001b[0m in \u001b[0;36mzmq.backend.cython.socket.Socket.recv\u001b[0;34m()\u001b[0m\n",
            "\u001b[0;32mzmq/backend/cython/socket.pyx\u001b[0m in \u001b[0;36mzmq.backend.cython.socket._recv_copy\u001b[0;34m()\u001b[0m\n",
            "\u001b[0;32m/usr/local/lib/python3.6/dist-packages/zmq/backend/cython/checkrc.pxd\u001b[0m in \u001b[0;36mzmq.backend.cython.checkrc._check_rc\u001b[0;34m()\u001b[0m\n",
            "\u001b[0;31mKeyboardInterrupt\u001b[0m: ",
            "\nDuring handling of the above exception, another exception occurred:\n",
            "\u001b[0;31mKeyboardInterrupt\u001b[0m                         Traceback (most recent call last)",
            "\u001b[0;32m<ipython-input-21-a09be7b761f4>\u001b[0m in \u001b[0;36m<module>\u001b[0;34m()\u001b[0m\n\u001b[1;32m      1\u001b[0m \u001b[0;32mif\u001b[0m \u001b[0m__name__\u001b[0m \u001b[0;34m==\u001b[0m \u001b[0;34m'__main__'\u001b[0m \u001b[0;34m:\u001b[0m\u001b[0;34m\u001b[0m\u001b[0;34m\u001b[0m\u001b[0m\n\u001b[1;32m      2\u001b[0m   \u001b[0;31m# reading source image and checking for errors\u001b[0m\u001b[0;34m\u001b[0m\u001b[0;34m\u001b[0m\u001b[0;34m\u001b[0m\u001b[0m\n\u001b[0;32m----> 3\u001b[0;31m   \u001b[0mfilename1\u001b[0m \u001b[0;34m=\u001b[0m \u001b[0minput\u001b[0m\u001b[0;34m(\u001b[0m\u001b[0;34m\"Enter source filename: \"\u001b[0m\u001b[0;34m)\u001b[0m\u001b[0;34m\u001b[0m\u001b[0;34m\u001b[0m\u001b[0m\n\u001b[0m\u001b[1;32m      4\u001b[0m   \u001b[0msrc\u001b[0m \u001b[0;34m=\u001b[0m \u001b[0mcv2\u001b[0m\u001b[0;34m.\u001b[0m\u001b[0mimread\u001b[0m\u001b[0;34m(\u001b[0m\u001b[0mfilename1\u001b[0m\u001b[0;34m)\u001b[0m\u001b[0;34m\u001b[0m\u001b[0;34m\u001b[0m\u001b[0m\n\u001b[1;32m      5\u001b[0m   \u001b[0msrcdata\u001b[0m\u001b[0;34m=\u001b[0m\u001b[0mdata\u001b[0m\u001b[0;34m(\u001b[0m\u001b[0msrc\u001b[0m\u001b[0;34m.\u001b[0m\u001b[0mcopy\u001b[0m\u001b[0;34m(\u001b[0m\u001b[0;34m)\u001b[0m \u001b[0;34m,\u001b[0m \u001b[0;34m[\u001b[0m\u001b[0;34m]\u001b[0m\u001b[0;34m,\u001b[0m \u001b[0;34m[\u001b[0m\u001b[0;34m]\u001b[0m\u001b[0;34m)\u001b[0m\u001b[0;34m\u001b[0m\u001b[0;34m\u001b[0m\u001b[0m\n",
            "\u001b[0;32m/usr/local/lib/python3.6/dist-packages/ipykernel/kernelbase.py\u001b[0m in \u001b[0;36mraw_input\u001b[0;34m(self, prompt)\u001b[0m\n\u001b[1;32m    702\u001b[0m             \u001b[0mself\u001b[0m\u001b[0;34m.\u001b[0m\u001b[0m_parent_ident\u001b[0m\u001b[0;34m,\u001b[0m\u001b[0;34m\u001b[0m\u001b[0;34m\u001b[0m\u001b[0m\n\u001b[1;32m    703\u001b[0m             \u001b[0mself\u001b[0m\u001b[0;34m.\u001b[0m\u001b[0m_parent_header\u001b[0m\u001b[0;34m,\u001b[0m\u001b[0;34m\u001b[0m\u001b[0;34m\u001b[0m\u001b[0m\n\u001b[0;32m--> 704\u001b[0;31m             \u001b[0mpassword\u001b[0m\u001b[0;34m=\u001b[0m\u001b[0;32mFalse\u001b[0m\u001b[0;34m,\u001b[0m\u001b[0;34m\u001b[0m\u001b[0;34m\u001b[0m\u001b[0m\n\u001b[0m\u001b[1;32m    705\u001b[0m         )\n\u001b[1;32m    706\u001b[0m \u001b[0;34m\u001b[0m\u001b[0m\n",
            "\u001b[0;32m/usr/local/lib/python3.6/dist-packages/ipykernel/kernelbase.py\u001b[0m in \u001b[0;36m_input_request\u001b[0;34m(self, prompt, ident, parent, password)\u001b[0m\n\u001b[1;32m    732\u001b[0m             \u001b[0;32mexcept\u001b[0m \u001b[0mKeyboardInterrupt\u001b[0m\u001b[0;34m:\u001b[0m\u001b[0;34m\u001b[0m\u001b[0;34m\u001b[0m\u001b[0m\n\u001b[1;32m    733\u001b[0m                 \u001b[0;31m# re-raise KeyboardInterrupt, to truncate traceback\u001b[0m\u001b[0;34m\u001b[0m\u001b[0;34m\u001b[0m\u001b[0;34m\u001b[0m\u001b[0m\n\u001b[0;32m--> 734\u001b[0;31m                 \u001b[0;32mraise\u001b[0m \u001b[0mKeyboardInterrupt\u001b[0m\u001b[0;34m\u001b[0m\u001b[0;34m\u001b[0m\u001b[0m\n\u001b[0m\u001b[1;32m    735\u001b[0m             \u001b[0;32melse\u001b[0m\u001b[0;34m:\u001b[0m\u001b[0;34m\u001b[0m\u001b[0;34m\u001b[0m\u001b[0m\n\u001b[1;32m    736\u001b[0m                 \u001b[0;32mbreak\u001b[0m\u001b[0;34m\u001b[0m\u001b[0;34m\u001b[0m\u001b[0m\n",
            "\u001b[0;31mKeyboardInterrupt\u001b[0m: "
          ]
        }
      ]
    }
  ]
}